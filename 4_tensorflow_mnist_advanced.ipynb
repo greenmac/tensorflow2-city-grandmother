{
 "nbformat": 4,
 "nbformat_minor": 2,
 "metadata": {
  "language_info": {
   "name": "python",
   "codemirror_mode": {
    "name": "ipython",
    "version": 3
   },
   "version": "3.7.4-final"
  },
  "orig_nbformat": 2,
  "file_extension": ".py",
  "mimetype": "text/x-python",
  "name": "python",
  "npconvert_exporter": "python",
  "pygments_lexer": "ipython3",
  "version": 3,
  "kernelspec": {
   "name": "python37464bit235c09e77a3a4be4a0fbcd79d7c7728e",
   "display_name": "Python 3.7.4 64-bit"
  }
 },
 "cells": [
  {
   "cell_type": "code",
   "execution_count": 1,
   "metadata": {},
   "outputs": [],
   "source": [
    "import tensorflow as tf\n",
    "from tensorflow.keras.layers import Dense, Flatten, Conv2D\n",
    "from tensorflow.keras import Model"
   ]
  },
  {
   "cell_type": "code",
   "execution_count": 2,
   "metadata": {},
   "outputs": [],
   "source": [
    "mnist = tf.keras.datasets.mnist\n",
    "(x_train, y_train), (x_test, y_test) = mnist.load_data()\n",
    "x_train, x_test = x_train/255.0, x_test/255.0"
   ]
  },
  {
   "cell_type": "code",
   "execution_count": 3,
   "metadata": {},
   "outputs": [
    {
     "data": {
      "text/plain": "(60000, 28, 28)"
     },
     "execution_count": 3,
     "metadata": {},
     "output_type": "execute_result"
    }
   ],
   "source": [
    "x_train.shape"
   ]
  },
  {
   "cell_type": "code",
   "execution_count": 4,
   "metadata": {},
   "outputs": [],
   "source": [
    "# Add a channels dimension\n",
    "# 多增加第4個 dimension:\"channel\"\n",
    "x_train = x_train[..., tf.newaxis]\n",
    "x_test = x_test[..., tf.newaxis]"
   ]
  },
  {
   "cell_type": "code",
   "execution_count": 5,
   "metadata": {},
   "outputs": [
    {
     "data": {
      "text/plain": "(60000, 28, 28, 1)"
     },
     "execution_count": 5,
     "metadata": {},
     "output_type": "execute_result"
    }
   ],
   "source": [
    "x_train.shape"
   ]
  },
  {
   "cell_type": "code",
   "execution_count": 6,
   "metadata": {},
   "outputs": [],
   "source": [
    "#== tf.data API 來建立 input pipeline ==#\n",
    "#  * tf.data\n",
    "\n",
    "#1.\"from_tensor_slices\" 建立一個 Dataset Object\n",
    "#  在使用\"from_tensor_slices\"參數（x_train, y_train）是\n",
    "#  包含很多筆類型一樣的data,像這個例子有 60000筆data。\n",
    "#  不要跟\"from_tensors\"搞混了!\n",
    "\n",
    "#2.將training data做shuffle打亂 和 將batch size設定為 32\n",
    "train_dataset = tf.data.Dataset.from_tensor_slices((x_train, y_train))\n",
    "train_dataset = train_dataset.shuffle(10000).batch(32)\n",
    "\n",
    "test_dataset = tf.data.Dataset.from_tensor_slices((x_test, y_test))\n",
    "test_dataset = test_dataset.batch(32)"
   ]
  },
  {
   "cell_type": "code",
   "execution_count": 7,
   "metadata": {},
   "outputs": [],
   "source": [
    "#== 使用 Keras 自訂一個 Model ==#\n",
    "#  * tf.Keras.Model\n",
    "#  * tf.Keras.layers\n",
    "\n",
    "#1.建立一個 Class並繼承 tf.Keras.Model\n",
    "#2.__init__裡面我們可以自己設計每一層 Layer長什麼樣子，\n",
    "#  是哪種 Layer(Convolution, dense...)\n",
    "\n",
    "#3.call定義了這個 Model的 forward pass\n",
    "\n",
    "class MyModel(Model):\n",
    "    def __init__(self):\n",
    "        super(MyModel, self).__init__()\n",
    "        # Define your layers here.\n",
    "        self.conv1 = Conv2D(32, 3, activation='relu')\n",
    "        self.flatten = Flatten()\n",
    "        self.d1 = Dense(128, activation='relu')\n",
    "        self.d2 = Dense(10, activation='softmax')\n",
    "\n",
    "    def call(self, x):\n",
    "        # Define your forward pass here,\n",
    "        # using layers you previously defined (in __init__).\n",
    "        x = self.conv1(x)\n",
    "        x = self.flatten(x)\n",
    "        x = self.d1(x)\n",
    "        return self.d2(x)\n",
    "\n",
    "model = MyModel()"
   ]
  },
  {
   "cell_type": "code",
   "execution_count": 8,
   "metadata": {},
   "outputs": [],
   "source": [
    "#== 選擇 loss, optimizer和 metrics ==#\n",
    "#  * tf.keras.losses\n",
    "#  * tf.keras.optimizers\n",
    "#  * tf.keras.metrics\n",
    "\n",
    "loss_object = tf.keras.losses.SparseCategoricalCrossentropy()\n",
    "optimizer = tf.keras.optimizers.Adam()\n",
    "\n",
    "train_loss = tf.keras.metrics.Mean(name='train_loss')\n",
    "train_accuracy = tf.keras.metrics.SparseCategoricalAccuracy(name='train_accuracy')\n",
    "\n",
    "test_loss = tf.keras.metrics.Mean(name='test_loss')\n",
    "test_accuracy = tf.keras.metrics.SparseCategoricalAccuracy(name='test_accuracy')"
   ]
  },
  {
   "cell_type": "code",
   "execution_count": 9,
   "metadata": {},
   "outputs": [],
   "source": [
    "#== train the model (定義)==#\n",
    "#  * tf.function\n",
    "#  * tf.GradientTape\n",
    "\n",
    "@tf.function\n",
    "def train_step(images, labels):\n",
    "    with tf.GradientTape() as tape:\n",
    "        # forward pass to get predictions\n",
    "        predictions = model(images)\n",
    "        # compute loss with the ground and our predictions\n",
    "        loss = loss_object(labels, predictions)\n",
    "    # compute gradient \n",
    "    gradients = tape.gradient(loss, model.trainable_variables)\n",
    "    # back propagation\n",
    "    optimizer.apply_gradients(zip(gradients, model.trainable_variables))\n",
    "\n",
    "    train_loss(loss)\n",
    "    train_accuracy(labels, predictions)"
   ]
  },
  {
   "cell_type": "code",
   "execution_count": 10,
   "metadata": {},
   "outputs": [],
   "source": [
    "#== test the model (定義)==#\n",
    "#  * tf.function\n",
    "\n",
    "@tf.function\n",
    "def test_step(images, labels):\n",
    "    \n",
    "    # forward pass to get predictions\n",
    "    predictions = model(images)\n",
    "    # compute loss with the ground and our predictions\n",
    "    t_loss = loss_object(labels, predictions)\n",
    "\n",
    "    test_loss(t_loss)\n",
    "    test_accuracy(labels, predictions)"
   ]
  },
  {
   "cell_type": "code",
   "execution_count": 11,
   "metadata": {},
   "outputs": [
    {
     "name": "stdout",
     "output_type": "stream",
     "text": "WARNING:tensorflow:Layer my_model is casting an input tensor from dtype float64 to the layer's dtype of float32, which is new behavior in TensorFlow 2.  The layer has dtype float32 because it's dtype defaults to floatx.\n\nIf you intended to run this layer in float32, you can safely ignore this warning. If in doubt, this warning is likely only an issue if you are porting a TensorFlow 1.X model to TensorFlow 2.\n\nTo change all layers to have dtype float64 by default, call `tf.keras.backend.set_floatx('float64')`. To change just this layer, pass dtype='float64' to the layer constructor. If you are the author of this layer, you can disable autocasting by passing autocast=False to the base Layer constructor.\n\nEpoch: 1, Loss: 0.13714522123336792, Accuracy: 95.9000015258789, Test Loss: 0.05295519530773163, Test Accuracy: 98.05999755859375\n\nEpoch: 2, Loss: 0.0437108650803566, Accuracy: 98.59500122070312, Test Loss: 0.04853399097919464, Test Accuracy: 98.33999633789062\n\nEpoch: 3, Loss: 0.022211862727999687, Accuracy: 99.29500579833984, Test Loss: 0.0501694418489933, Test Accuracy: 98.40999603271484\n\nEpoch: 4, Loss: 0.013129704631865025, Accuracy: 99.57333374023438, Test Loss: 0.05469289422035217, Test Accuracy: 98.40999603271484\n\nEpoch: 5, Loss: 0.009765236638486385, Accuracy: 99.67166900634766, Test Loss: 0.0643656924366951, Test Accuracy: 98.38999938964844\n\n"
    }
   ],
   "source": [
    "#== 真正開始 train model ==#\n",
    "\n",
    "# 定義epochs數(整個dataset 拿來train過一次稱一個epoch)\n",
    "epochs = 5\n",
    "for epoch in range(epochs):\n",
    "    for images, labels in train_dataset:\n",
    "        train_step(images, labels)\n",
    "    \n",
    "    for test_images, test_labels in test_dataset:\n",
    "        test_step(test_images, test_labels)\n",
    "\n",
    "    template = f'Epoch: {epoch+1}, Loss: {train_loss.result()}, Accuracy: {train_accuracy.result()*100}, Test Loss: {test_loss.result()}, Test Accuracy: {test_accuracy.result()*100}\\n'\n",
    "    print(template)\n",
    "\n",
    "    # Reset the metrics for the next epoch\n",
    "    train_loss.reset_states()\n",
    "    train_accuracy.reset_states()\n",
    "    test_loss.reset_states()\n",
    "    test_accuracy.reset_states()"
   ]
  },
  {
   "cell_type": "code",
   "execution_count": 12,
   "metadata": {},
   "outputs": [
    {
     "name": "stdout",
     "output_type": "stream",
     "text": "WARNING:tensorflow:Layer conv2d is casting an input tensor from dtype float64 to the layer's dtype of float32, which is new behavior in TensorFlow 2.  The layer has dtype float32 because it's dtype defaults to floatx.\n\nIf you intended to run this layer in float32, you can safely ignore this warning. If in doubt, this warning is likely only an issue if you are porting a TensorFlow 1.X model to TensorFlow 2.\n\nTo change all layers to have dtype float64 by default, call `tf.keras.backend.set_floatx('float64')`. To change just this layer, pass dtype='float64' to the layer constructor. If you are the author of this layer, you can disable autocasting by passing autocast=False to the base Layer constructor.\n\nWARNING:tensorflow:From /Library/Frameworks/Python.framework/Versions/3.7/lib/python3.7/site-packages/tensorflow_core/python/ops/resource_variable_ops.py:1781: calling BaseResourceVariable.__init__ (from tensorflow.python.ops.resource_variable_ops) with constraint is deprecated and will be removed in a future version.\nInstructions for updating:\nIf using Keras pass *_constraint arguments to layers.\nINFO:tensorflow:Assets written to: mnist_result/assets\n"
    }
   ],
   "source": [
    "#== Saved Model ==#\n",
    "#  * tf.saved_model\n",
    "\n",
    "tf.saved_model.save(model, 'mnist_result')"
   ]
  },
  {
   "cell_type": "code",
   "execution_count": 20,
   "metadata": {},
   "outputs": [],
   "source": [
    "def evaluate(model):\n",
    "    print('test_dataset', test_dataset)\n",
    "    for images, labels in test_dataset:\n",
    "        predictions =model(images)\n",
    "        t_loss = loss_object(labels, predictions)\n",
    "\n",
    "        test_loss(t_loss)\n",
    "        test_accuracy(labels, predictions)\n",
    "\n",
    "    print(f'test loss : {test_loss.result()}')\n",
    "    print(f'test accuracy : {test_accuracy.result()}')\n",
    "    test_loss.reset_states()\n",
    "    test_accuracy.reset_states()"
   ]
  },
  {
   "cell_type": "code",
   "execution_count": 21,
   "metadata": {},
   "outputs": [
    {
     "name": "stdout",
     "output_type": "stream",
     "text": "test_dataset <BatchDataset shapes: ((None, 28, 28, 1), (None,)), types: (tf.float64, tf.uint8)>\ntest loss : 0.06436643749475479\ntest accuracy : 0.9839000105857849\n"
    }
   ],
   "source": [
    "#== Load Model ==#\n",
    "# create a new model to see the performance without training\n",
    "\n",
    "new_model = tf.saved_model.load('mnist_result')\n",
    "evaluate(new_model)"
   ]
  },
  {
   "cell_type": "code",
   "execution_count": 22,
   "metadata": {},
   "outputs": [
    {
     "name": "stdout",
     "output_type": "stream",
     "text": "test_dataset <BatchDataset shapes: ((None, 28, 28, 1), (None,)), types: (tf.float64, tf.uint8)>\ntest loss : 0.06436643749475479\ntest accuracy : 0.9839000105857849\n"
    }
   ],
   "source": [
    "# 之前那個 Model\n",
    "# performance 與上面的一樣！\n",
    "evaluate(model)"
   ]
  },
  {
   "cell_type": "code",
   "execution_count": null,
   "metadata": {},
   "outputs": [],
   "source": []
  }
 ]
}